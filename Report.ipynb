{
 "cells": [
  {
   "cell_type": "markdown",
   "metadata": {},
   "source": [
    "# Continuous Control\n",
    "\n",
    "---\n",
    "\n",
    "This code is compatible with both two versions of the environments ; single agent version and 20 agents version. Please setup the path of the environment you want."
   ]
  },
  {
   "cell_type": "markdown",
   "metadata": {},
   "source": [
    "## 0. Learning Algorithm\n",
    "\n",
    "---\n",
    "\n",
    "To solve Unity reacher one agent problem, I choose [DDPG algorithm](https://arxiv.org/pdf/1509.02971.pdf)(Lillicrap et al., CONTINUOUS CONTROL WITH DEEP REINFORCEMENT LEARNING).\n",
    "\n",
    "**Algorithm**\n",
    "\n",
    "To make DQN agent deal with continuos action space, the authors suggest an extension of actor-critic model called DDPG. The DDPG agent is consists of 2 kinds of networks. Actor network is responsible for the policy function approximator. Critic Network is reponsible for Q-value function approximator. To reduce the correlation between parameters, they used target network scheme.\n",
    "\n",
    "Just like DQN, DDPG also uses replay buffer which stores old experiences at each time step and samples a small batch of tuples randomly. Reinforcement learning could be unstable when a nonlinear function approximator is used to represent action-value function, because the sequence of experiencs can be highly correlated. It can prevent action values from oscillating or diverging.\n",
    "\n",
    "\n",
    "And they add Ornstein-Uhlenbeck Noise to the action produced by actor network for encouraging exploration. In this noise process, 2 consecutive noise states are temporally correlated. This will ensure that 2 consecutive actions are not different widly. The variation of the noise process decreases to reducing the exploration as time goes by. Lastly, they used Adam optimizer for learning the nueral network paramters.\n",
    "\n",
    "\n",
    "<br>\n",
    "<figure>\n",
    "  <img src = \"./ddpg_algorithm.png\" width = 80% style = \"border: thin silver solid; padding: 10px\">\n",
    "      <figcaption style = \"text-align: center; font-style: italic\">Fig 1. - DDPG Algorithm. (Lillicrap et al., Continuous control with deep reinforcement learning, 5)</figcaption>\n",
    "</figure> \n",
    "<br>\n"
   ]
  },
  {
   "cell_type": "markdown",
   "metadata": {},
   "source": [
    "**Hyperparamters**\n",
    "\n",
    "After extensive exploration with fine-tuning hyperparameters, this setting gives me best results. \n",
    "This environment and agent are very sensitive to hyperparameters, So it needs to be tuned carefully. Especially the number of network nodes, random seed, training iteration and frequency have great effect on the performance. \n",
    "\n",
    "\n",
    "```\n",
    "BUFFER_SIZE = int(1e5)     # replay buffer size\n",
    "BATCH_SIZE = 246           # minibatch size\n",
    "GAMMA = 0.99               # discount factor\n",
    "TAU = 1e-3                 # soft update ratio for target network parameters\n",
    "LR_ACTOR = 1e-4            # learning rate of the actor \n",
    "LR_CRITIC = 2e-4           # learning rate of the critic\n",
    "WEIGHT_DECAY = 0.0001      # L2 weight decay for critic optimizer\n",
    "ACTOR_FC1 = 256            # the number of hidden layer node for actor \n",
    "ACTOR_FC2 = 128            # the number of hidden layer node for actor \n",
    "CRITIC_FC1 = 128           # the number of hidden layer node for critic\n",
    "CRITIC_FC2 = 64            # the number of hidden layer node for critic \n",
    "CRITIC_FC3 = 32            # the number of hidden layer node for critic\n",
    "TRAIN_ITER = 20            # training iterations\n",
    "TRAIN_FREQ = 10            # frequency of training\n",
    "CLIPPING = True            # gradient clipping for critic network\n",
    "SIGMA = 0.1                # Paramter for OU noise process\n",
    "THETA = 0.15               # Paramter for OU noise process\n",
    "EXPLORATION_DECAY = 0.995  # decay rate of OU noise process\n",
    "PRIORITY_SELECTION = False # priority experience selection\n",
    "SEED = 2                   # random seed\n",
    "\n",
    "```\n",
    "\n",
    "**Model Architecture**\n",
    "\n",
    "Since this reacher problem is low dimensional problem, Both Actor and Critic are consist of few several fully connected layers. Critic gets states and actions as input and ouputs the action-value. The paper states that the actions were not included until the 2nd hidden layer of Q. So In this Implementatiom, actions are merged into the hidden layer between the 1st and 2nd one.\n",
    "\n",
    "```\n",
    "Actor(\n",
    "  (bn0): BatchNorm1d(33, eps=1e-05, momentum=0.1, affine=True, track_running_stats=True)\n",
    "  (fc1): Linear(in_features=33, out_features=256, bias=False)\n",
    "  (bn1): BatchNorm1d(256, eps=1e-05, momentum=0.1, affine=True, track_running_stats=True)\n",
    "  (fc2): Linear(in_features=256, out_features=128, bias=False)\n",
    "  (bn2): BatchNorm1d(128, eps=1e-05, momentum=0.1, affine=True, track_running_stats=True)\n",
    "  (fc3): Linear(in_features=128, out_features=4, bias=True)\n",
    ")\n",
    "```\n",
    "\n",
    "\n",
    "```\n",
    "Critic(\n",
    "  (fc1): Linear(in_features=33, out_features=128, bias=False)\n",
    "  (bn1): BatchNorm1d(128, eps=1e-05, momentum=0.1, affine=True, track_running_stats=True)\n",
    "  (fc_merged): Linear(in_features=132, out_features=64, bias=True)\n",
    "  (bn_merged): BatchNorm1d(64, eps=1e-05, momentum=0.1, affine=True, track_running_stats=True)\n",
    "  (fc2): Linear(in_features=64, out_features=64, bias=True)\n",
    "  (bn2): BatchNorm1d(64, eps=1e-05, momentum=0.1, affine=True, track_running_stats=True)\n",
    "  (fc3): Linear(in_features=64, out_features=1, bias=True)\n",
    ")\n",
    "```\n"
   ]
  },
  {
   "cell_type": "markdown",
   "metadata": {},
   "source": [
    "## 1. Load Packages and Environment\n",
    "\n",
    "---\n",
    "\n",
    "You can select single agent version or multi agent version unity environment. Please make sure that you downloaded the proper environment and feed the path to the UnityEnvironment class."
   ]
  },
  {
   "cell_type": "code",
   "execution_count": 1,
   "metadata": {},
   "outputs": [],
   "source": [
    "%load_ext autoreload\n",
    "%autoreload 1\n",
    "%aimport agent, model, buffer"
   ]
  },
  {
   "cell_type": "code",
   "execution_count": 2,
   "metadata": {},
   "outputs": [],
   "source": [
    "import torch\n",
    "import torch.nn.functional as F\n",
    "import torch.optim as optim\n",
    "import torch.nn as nn\n",
    "import torch.nn.init as I\n",
    "\n",
    "device = torch.device(\"cuda:0\" if torch.cuda.is_available() else \"cpu\")\n",
    "\n",
    "import os\n",
    "import json\n",
    "import numpy as np\n",
    "import glob\n",
    "import matplotlib.pyplot as plt\n",
    "from collections import deque\n",
    "import agent\n",
    "from agent import MultiAgent"
   ]
  },
  {
   "cell_type": "code",
   "execution_count": 3,
   "metadata": {},
   "outputs": [
    {
     "name": "stderr",
     "output_type": "stream",
     "text": [
      "INFO:unityagents:\n",
      "'Academy' started successfully!\n",
      "Unity Academy name: Academy\n",
      "        Number of Brains: 1\n",
      "        Number of External Brains : 1\n",
      "        Lesson number : 0\n",
      "        Reset Parameters :\n",
      "\t\tgoal_speed -> 1.0\n",
      "\t\tgoal_size -> 5.0\n",
      "Unity brain name: ReacherBrain\n",
      "        Number of Visual Observations (per agent): 0\n",
      "        Vector Observation space type: continuous\n",
      "        Vector Observation space size (per agent): 33\n",
      "        Number of stacked Vector Observation: 1\n",
      "        Vector Action space type: continuous\n",
      "        Vector Action space size (per agent): 4\n",
      "        Vector Action descriptions: , , , \n"
     ]
    }
   ],
   "source": [
    "from unityagents import UnityEnvironment\n",
    "# select this option to load version 1 (with a single agent) of the environment\n",
    "# multi : data/multi_agent/Reacher_Windows_x86_64/Reacher.exe\n",
    "# single : data/single_agent/Reacher_Windows_x86_64/Reacher.exe\n",
    "env = UnityEnvironment(file_name='data/single_agent/Reacher_Windows_x86_64/Reacher.exe')"
   ]
  },
  {
   "cell_type": "markdown",
   "metadata": {},
   "source": [
    "## 2. Training\n",
    "---\n",
    "### 1. Hyperparmeters\n",
    "\n",
    "You need to set all the hyperparameters to run the training code or to see the actual agents's behaviours."
   ]
  },
  {
   "cell_type": "code",
   "execution_count": 4,
   "metadata": {},
   "outputs": [
    {
     "name": "stdout",
     "output_type": "stream",
     "text": [
      "Number of agents: 1\n",
      "Size of each action: 4\n",
      "There are 1 agents. Each observes a state with length: 33\n",
      "Shape of next state: (1, 33)\n"
     ]
    }
   ],
   "source": [
    "# get the default brain\n",
    "brain_name = env.brain_names[0]\n",
    "brain = env.brains[brain_name]\n",
    "# reset the environment\n",
    "env_info = env.reset(train_mode=True)[brain_name]\n",
    "\n",
    "# number of agents\n",
    "num_agents = len(env_info.agents)\n",
    "print('Number of agents:', num_agents)\n",
    "\n",
    "# size of each action\n",
    "action_size = brain.vector_action_space_size\n",
    "print('Size of each action:', action_size)\n",
    "\n",
    "# examine the state space \n",
    "states = env_info.vector_observations\n",
    "state_size = states.shape[1]\n",
    "print('There are {} agents. Each observes a state with length: {}'.format(states.shape[0], state_size))\n",
    "\n",
    "# shape of its elements\n",
    "print('Shape of next state: {}'.format(env_info.vector_observations.shape))"
   ]
  },
  {
   "cell_type": "code",
   "execution_count": 5,
   "metadata": {},
   "outputs": [],
   "source": [
    "# load_previous_model = True\n",
    "model_name = 'model_35_single'\n",
    "model_save_path = 'model/'\n",
    "params = {}\n",
    "# Hyper parameters\n",
    "params['BUFFER_SIZE'] = int(1e5)\n",
    "params['BATCH_SIZE'] = 256\n",
    "params['GAMMA'] = 0.99\n",
    "params['TAU'] = 1e-3\n",
    "params['WEIGHT_DECAY'] = 0.0001\n",
    "params['TRAIN_ITER'] = 20\n",
    "params['TRAIN_FREQ'] = 10\n",
    "params['ACTOR_FC1'] = 256\n",
    "params['ACTOR_FC2'] = 128\n",
    "params['CRITIC_FC1'] = 128\n",
    "params['CRITIC_FC2'] = 64\n",
    "params['CRITIC_FC3'] = 32\n",
    "params['LR_ACTOR'] = 1e-4\n",
    "params['LR_CRITIC'] = 2e-4\n",
    "params['SEED'] = 2\n",
    "params['PRIORITY_SELECTION'] = False\n",
    "params['CLIPPING'] = True\n",
    "params['EXPLORATION_DECAY'] = 0.995\n",
    "params['NOISE_SIGMA'] = 0.1\n",
    "\n",
    "\n",
    "# model save frequency\n",
    "CHECKPOINT_FREQ = 5\n",
    "# score printing frequency\n",
    "PRINT_EVERY = 5\n",
    "# Goal \n",
    "GOAL_AVG_SCORE = 30.0"
   ]
  },
  {
   "cell_type": "markdown",
   "metadata": {},
   "source": [
    "### 2.Set up\n",
    "\n",
    "Check if there is previous saved model. If there are checkpoints, then load the checkpoints and scores information."
   ]
  },
  {
   "cell_type": "code",
   "execution_count": 6,
   "metadata": {},
   "outputs": [],
   "source": [
    "def set_up(model_name, params):\n",
    "    \"\"\"\n",
    "    set up for traning\n",
    "    If the model and its score already exist, load the model and score\n",
    "        \n",
    "    Returns\n",
    "    ======\n",
    "    scores (list) : score history \n",
    "    score_deque (deque) : score window \n",
    "    current_episode (int) : current episode number \n",
    "    multiAgent (MultiAgent)\n",
    "    \"\"\"\n",
    "    target_path = model_save_path+model_name\n",
    "    # If the model already exists\n",
    "    if os.path.exists(target_path):\n",
    "        # Check it there are checkpoint files\n",
    "        if not glob.glob(target_path+'/*.pth'):\n",
    "            raise Exception('Previous model file doesnt exists')\n",
    "        # Get params from the previous saved params.json\n",
    "        with open(target_path+'/params.json', 'r') as f:\n",
    "            # previous param dict\n",
    "            prev_params = json.load(f)\n",
    "        # Get previous score data    \n",
    "        with open(target_path+'/scores.json', 'r') as f:\n",
    "            prev_score_data = json.load(f)\n",
    "            score_deque = deque(maxlen=100)\n",
    "            scores = []\n",
    "            current_episode = 1\n",
    "            if len(prev_score_data) !=0 :\n",
    "                current_episode = prev_score_data['current_episode']\n",
    "                scores = prev_score_data['scores']\n",
    "                for score in scores:\n",
    "                    score_deque.append(score)\n",
    "            \n",
    "        multiAgent = MultiAgent(state_size, action_size, num_agents, params)\n",
    "        multiAgent.load_model(path=target_path)\n",
    "        \n",
    "    # If this is first time ; no previous saved model\n",
    "    else:\n",
    "        print('This is first time to run the model : {}'.format(model_name))\n",
    "        os.makedirs(target_path)\n",
    "        # Write parameters into json file\n",
    "        with open(target_path+'/params.json', 'w') as f:\n",
    "            json.dump(params, f)\n",
    "        with open(target_path+'/scores.json', 'w') as f:\n",
    "            json.dump({}, f)\n",
    "            \n",
    "        current_episode = 1\n",
    "        scores = []\n",
    "        score_deque = deque(maxlen=100)\n",
    "        multiAgent = MultiAgent(state_size, action_size, num_agents, params)\n",
    "    \n",
    "    return multiAgent, scores, score_deque, current_episode, target_path"
   ]
  },
  {
   "cell_type": "code",
   "execution_count": 7,
   "metadata": {},
   "outputs": [
    {
     "name": "stdout",
     "output_type": "stream",
     "text": [
      "This is first time to run the model : model_35_single\n"
     ]
    }
   ],
   "source": [
    "multiAgent, scores, score_deque, current_episode, target_path = set_up(model_name, params)"
   ]
  },
  {
   "cell_type": "markdown",
   "metadata": {},
   "source": [
    "### 3.Training Code"
   ]
  },
  {
   "cell_type": "code",
   "execution_count": 8,
   "metadata": {},
   "outputs": [],
   "source": [
    "def ddpg(n_episodes=250, timestep_max=1000):\n",
    "\n",
    "    for i in range(current_episode,n_episodes+1):\n",
    "        # Get Initial State\n",
    "        env_info = env.reset(train_mode=True)[brain_name]\n",
    "        states = env_info.vector_observations\n",
    "        # noise reset\n",
    "        multiAgent.reset()\n",
    "        # Episode score\n",
    "        score = np.zeros(num_agents) # shape : [num_agents,]\n",
    "        for t in range(timestep_max):\n",
    "            actions = multiAgent.act(states)\n",
    "            \n",
    "            env_info = env.step(actions)[brain_name]\n",
    "            next_states = env_info.vector_observations\n",
    "            rewards = env_info.rewards\n",
    "            dones = env_info.local_done\n",
    "        \n",
    "            multiAgent.step(states, actions, rewards, next_states, dones)\n",
    "            \n",
    "            states = next_states\n",
    "            score += rewards\n",
    "            # any agent reaches at terminal state.\n",
    "            if np.any(dones):\n",
    "                break\n",
    "        # Append an episode score\n",
    "        score_deque.append(np.mean(score))\n",
    "        scores.append(np.mean(score))\n",
    "        \n",
    "        if i % CHECKPOINT_FREQ == 0 or i==n_episodes:\n",
    "            multiAgent.save_model(target_path)\n",
    "            with open(target_path+'/scores.json', mode='w') as f:\n",
    "                score_data = {'current_episode':i, 'scores':scores}\n",
    "                json.dump(score_data, f)\n",
    "            multiAgent.get_loss_history()\n",
    "                \n",
    "        if (i%PRINT_EVERY) == 0:\n",
    "            print('\\rEpisode : {} \\t Current Score: {:.2f} \\t Average Score : {:.2f}'.format(i, np.mean(score), np.mean(score_deque)))\n",
    "        \n",
    "        if np.mean(score_deque)>=GOAL_AVG_SCORE:\n",
    "            print('The number of episodes needed to solve the problem : {}'.format(i))\n",
    "            print('Episode : {} \\t Current Score: {:.4f} \\t Average Score : {:.4f}'. format(i, np.mean(score), np.mean(score_deque)))\n",
    "            # save model parameters\n",
    "            multiAgent.save_model(target_path)\n",
    "            multiAgent.get_loss_history()\n",
    "            break           \n",
    "            \n",
    "    return scores, multiAgent.actor_loss_history, multiAgent.critic_loss_history"
   ]
  },
  {
   "cell_type": "code",
   "execution_count": 9,
   "metadata": {
    "scrolled": false
   },
   "outputs": [
    {
     "name": "stdout",
     "output_type": "stream",
     "text": [
      "Episode : 5 \t Current Score: 0.00 \t Average Score : 0.51\n",
      "Episode : 10 \t Current Score: 0.62 \t Average Score : 0.75\n",
      "Episode : 15 \t Current Score: 1.86 \t Average Score : 0.91\n",
      "Episode : 20 \t Current Score: 1.63 \t Average Score : 1.25\n",
      "Episode : 25 \t Current Score: 1.01 \t Average Score : 1.39\n",
      "Episode : 30 \t Current Score: 2.38 \t Average Score : 1.53\n",
      "Episode : 35 \t Current Score: 1.91 \t Average Score : 1.64\n",
      "Episode : 40 \t Current Score: 3.29 \t Average Score : 1.77\n",
      "Episode : 45 \t Current Score: 2.92 \t Average Score : 2.00\n",
      "Episode : 50 \t Current Score: 5.16 \t Average Score : 2.16\n",
      "Episode : 55 \t Current Score: 2.57 \t Average Score : 2.32\n",
      "Episode : 60 \t Current Score: 4.17 \t Average Score : 2.50\n",
      "Episode : 65 \t Current Score: 4.28 \t Average Score : 2.70\n",
      "Episode : 70 \t Current Score: 10.99 \t Average Score : 3.09\n",
      "Episode : 75 \t Current Score: 2.16 \t Average Score : 3.20\n",
      "Episode : 80 \t Current Score: 7.02 \t Average Score : 3.45\n",
      "Episode : 85 \t Current Score: 5.52 \t Average Score : 3.55\n",
      "Episode : 90 \t Current Score: 6.03 \t Average Score : 3.76\n",
      "Episode : 95 \t Current Score: 10.57 \t Average Score : 3.98\n",
      "Episode : 100 \t Current Score: 7.20 \t Average Score : 4.19\n",
      "Episode : 105 \t Current Score: 11.84 \t Average Score : 4.69\n",
      "Episode : 110 \t Current Score: 14.34 \t Average Score : 5.21\n",
      "Episode : 115 \t Current Score: 7.82 \t Average Score : 5.63\n",
      "Episode : 120 \t Current Score: 10.61 \t Average Score : 6.02\n",
      "Episode : 125 \t Current Score: 15.86 \t Average Score : 6.64\n",
      "Episode : 130 \t Current Score: 11.10 \t Average Score : 7.20\n",
      "Episode : 135 \t Current Score: 17.85 \t Average Score : 7.87\n",
      "Episode : 140 \t Current Score: 17.31 \t Average Score : 8.76\n",
      "Episode : 145 \t Current Score: 9.64 \t Average Score : 9.42\n",
      "Episode : 150 \t Current Score: 18.91 \t Average Score : 10.28\n",
      "Episode : 155 \t Current Score: 17.12 \t Average Score : 11.11\n",
      "Episode : 160 \t Current Score: 27.66 \t Average Score : 12.11\n",
      "Episode : 165 \t Current Score: 29.75 \t Average Score : 13.11\n",
      "Episode : 170 \t Current Score: 24.47 \t Average Score : 14.07\n",
      "Episode : 175 \t Current Score: 33.25 \t Average Score : 15.24\n",
      "Episode : 180 \t Current Score: 20.64 \t Average Score : 15.89\n",
      "Episode : 185 \t Current Score: 21.23 \t Average Score : 16.98\n",
      "Episode : 190 \t Current Score: 34.13 \t Average Score : 18.13\n",
      "Episode : 195 \t Current Score: 33.49 \t Average Score : 19.19\n",
      "Episode : 200 \t Current Score: 34.86 \t Average Score : 20.27\n",
      "Episode : 205 \t Current Score: 39.61 \t Average Score : 21.55\n",
      "Episode : 210 \t Current Score: 33.43 \t Average Score : 22.72\n",
      "Episode : 215 \t Current Score: 36.89 \t Average Score : 24.01\n",
      "Episode : 220 \t Current Score: 38.63 \t Average Score : 25.40\n",
      "Episode : 225 \t Current Score: 39.24 \t Average Score : 26.56\n",
      "Episode : 230 \t Current Score: 32.37 \t Average Score : 27.59\n",
      "Episode : 235 \t Current Score: 38.72 \t Average Score : 28.66\n",
      "Episode : 240 \t Current Score: 38.69 \t Average Score : 29.52\n",
      "The number of episodes needed to solve the problem : 244\n",
      "Episode : 244 \t Current Score: 28.5700 \t Average Score : 30.1044\n",
      "Wall time: 3h 23min 53s\n"
     ]
    }
   ],
   "source": [
    "%%time\n",
    "scores, actor_loss, critic_loss= ddpg()"
   ]
  },
  {
   "cell_type": "markdown",
   "metadata": {},
   "source": [
    "### 4. Plot of Results"
   ]
  },
  {
   "cell_type": "code",
   "execution_count": 10,
   "metadata": {},
   "outputs": [
    {
     "data": {
      "image/png": "[encoded data removed]",
      "text/plain": [
       "<Figure size 432x288 with 1 Axes>"
      ]
     },
     "metadata": {
      "needs_background": "light"
     },
     "output_type": "display_data"
    }
   ],
   "source": [
    "fig = plt.figure()\n",
    "ax = fig.add_subplot(111)\n",
    "plt.plot(np.arange(1, len(scores)+1), scores)\n",
    "plt.ylabel('average score')\n",
    "plt.xlabel('Episode')\n",
    "plt.show()"
   ]
  },
  {
   "cell_type": "code",
   "execution_count": 32,
   "metadata": {},
   "outputs": [
    {
     "data": {
      "image/png": "[encoded data removed]",
      "text/plain": [
       "<Figure size 432x288 with 1 Axes>"
      ]
     },
     "metadata": {
      "needs_background": "light"
     },
     "output_type": "display_data"
    }
   ],
   "source": [
    "fig = plt.figure()\n",
    "ax = fig.add_subplot(111)\n",
    "plt.plot(np.arange(1, len(actor_loss)+1, 1), actor_loss)\n",
    "plt.ylabel('Average actor netwowrks loss')\n",
    "plt.xlabel('The number of learning')\n",
    "plt.show()"
   ]
  },
  {
   "cell_type": "code",
   "execution_count": 33,
   "metadata": {},
   "outputs": [
    {
     "data": {
      "image/png": "[encoded data removed]",
      "text/plain": [
       "<Figure size 432x288 with 1 Axes>"
      ]
     },
     "metadata": {
      "needs_background": "light"
     },
     "output_type": "display_data"
    }
   ],
   "source": [
    "fig = plt.figure()\n",
    "ax = fig.add_subplot(111)\n",
    "plt.plot(np.arange(1, len(critic_loss)+1, 1), critic_loss)\n",
    "plt.ylabel('Average critic netwowrks loss')\n",
    "plt.xlabel('The number of learning')\n",
    "plt.show()"
   ]
  },
  {
   "cell_type": "markdown",
   "metadata": {},
   "source": [
    "## 3. Watch the Agent"
   ]
  },
  {
   "cell_type": "code",
   "execution_count": 28,
   "metadata": {},
   "outputs": [],
   "source": [
    "multiAgent = MultiAgent(state_size, action_size, num_agents, params)\n",
    "multiAgent.load_model(path=target_path)"
   ]
  },
  {
   "cell_type": "code",
   "execution_count": 29,
   "metadata": {},
   "outputs": [],
   "source": [
    "scores = np.zeros(num_agents)\n",
    "env_info = env.reset(train_mode=False)[brain_name]\n",
    "state = env_info.vector_observations\n",
    "while True:\n",
    "    actions = multiAgent.act(states)\n",
    "            \n",
    "    env_info = env.step(actions)[brain_name]\n",
    "    next_states = env_info.vector_observations\n",
    "    rewards = env_info.rewards\n",
    "    dones = env_info.local_done\n",
    "    rewards = env_info.rewards\n",
    "\n",
    "    multiAgent.step(states, actions, rewards, next_states, dones)\n",
    "    scores += rewards\n",
    "    states = next_states\n",
    "    if np.any(dones):\n",
    "        break "
   ]
  },
  {
   "cell_type": "code",
   "execution_count": 30,
   "metadata": {},
   "outputs": [
    {
     "name": "stdout",
     "output_type": "stream",
     "text": [
      "Current Episode Score: 10.9100\n"
     ]
    }
   ],
   "source": [
    "episode_score = np.mean(scores)\n",
    "print('Current Episode Score: {:.4f}'. format(episode_score))"
   ]
  },
  {
   "cell_type": "code",
   "execution_count": 31,
   "metadata": {},
   "outputs": [],
   "source": [
    "env.close()"
   ]
  },
  {
   "cell_type": "markdown",
   "metadata": {},
   "source": [
    "## 4. Future Works\n",
    "\n",
    "Even though the current setting can satisfy the project submission requirements, It has several things to be imporved. There are some ideas and I leave these investigations to future work."
   ]
  },
  {
   "cell_type": "markdown",
   "metadata": {},
   "source": [
    "1. *More fine-tuning Hyper paramters*\n",
    "\n",
    "    There might be a better combination of hyperparamters. In general It's not gauranteed to get better results with naively increasing number. Actually I got the worse performance by increasing the training iterations from 15 to 17. So It requires to adjust every other hyperparmeters at the same time. I think soft update ratio($ \\tau $) can improve the performance, since the current setting gives slower convergence.\n",
    "   \n",
    "    \n",
    "    \n",
    "2. *Applying Other Actor-Critic methods*\n",
    "    \n",
    "    There are many other actor-critic method such as TRPO(Trust Region Policy Optimization), TNPG(Truncated Natural Policy Gradient) which outperform the DDPG algorithm([Duan et al., Benchmarking Deep Reinforcement Learning for Continuous Control](https://arxiv.org/abs/1604.06778)). The current DDPG algorithm update actor network by using the policy gradient which depends on critic network. So the quality of critic learning procedure might impact the performance of actor network. There have been researches to improve critic learning procedure([Bellemare et al., A Distributional Perspective on Reinforcement Learning](https://arxiv.org/pdf/1707.06887.pdf)). [Barth-Maron et al.](http://arxiv.org/abs/1804.08617) proposed D4PG algorithm with several ideas such as modifying the training procedure and utilizing N-step returns. These works are candidates for the future works.\n",
    "    \n",
    "    \n",
    "3. *Other Normalization Techniques*\n",
    "\n",
    "    Current model only use batch normalization in actor network. Pytorch has [other normalization layers](https://pytorch.org/docs/stable/nn.html#normalization-layers) like layer norm, instance norm, local reponse norm. These normalization layers might improve the training of networks."
   ]
  }
 ],
 "metadata": {
  "kernelspec": {
   "display_name": "Python 3",
   "language": "python",
   "name": "python3"
  },
  "language_info": {
   "codemirror_mode": {
    "name": "ipython",
    "version": 3
   },
   "file_extension": ".py",
   "mimetype": "text/x-python",
   "name": "python",
   "nbconvert_exporter": "python",
   "pygments_lexer": "ipython3",
   "version": "3.6.8"
  }
 },
 "nbformat": 4,
 "nbformat_minor": 2
}
